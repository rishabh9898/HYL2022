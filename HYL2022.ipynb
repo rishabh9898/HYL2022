{
  "nbformat": 4,
  "nbformat_minor": 0,
  "metadata": {
    "colab": {
      "name": "HYL2022.ipynb",
      "provenance": [],
      "mount_file_id": "1NUJS2UtnV7l5iZ8ZjFJ_ZQAsKXaJM_Bl",
      "authorship_tag": "ABX9TyMB+0hxUKokIKwxKC+A8LOt",
      "include_colab_link": true
    },
    "kernelspec": {
      "name": "python3",
      "display_name": "Python 3"
    },
    "language_info": {
      "name": "python"
    }
  },
  "cells": [
    {
      "cell_type": "markdown",
      "metadata": {
        "id": "view-in-github",
        "colab_type": "text"
      },
      "source": [
        "<a href=\"https://colab.research.google.com/github/rishabh9898/HYL2022/blob/main/HYL2022.ipynb\" target=\"_parent\"><img src=\"https://colab.research.google.com/assets/colab-badge.svg\" alt=\"Open In Colab\"/></a>"
      ]
    },
    {
      "cell_type": "code",
      "execution_count": null,
      "metadata": {
        "id": "6pF1XM4LJ8On"
      },
      "outputs": [],
      "source": [
        "!pip install sentence-transformers\n",
        "!pip install -U -q PyDrive\n",
        "!pip install google-cloud-vision"
      ]
    },
    {
      "cell_type": "code",
      "source": [
        "import json\n",
        "import os\n",
        "from sentence_transformers import SentenceTransformer, util"
      ],
      "metadata": {
        "id": "4xGSIyeWKRL8"
      },
      "execution_count": 2,
      "outputs": []
    },
    {
      "cell_type": "code",
      "source": [
        "#First, we load the papers dataset (with title and abstract information)\n",
        "dataset_file = 'emnlp2016-2018.json'\n",
        "\n",
        "if not os.path.exists(dataset_file):\n",
        "  util.http_get(\"https://sbert.net/datasets/emnlp2016-2018.json\", dataset_file)\n",
        "\n",
        "with open(dataset_file) as fIn:\n",
        "  papers = json.load(fIn)\n",
        "\n",
        "print(len(papers), \"papers loaded\")"
      ],
      "metadata": {
        "colab": {
          "base_uri": "https://localhost:8080/"
        },
        "id": "5KYawbThKpWr",
        "outputId": "28cc4bd0-00d0-4a37-adb6-a545741e5f4d"
      },
      "execution_count": 3,
      "outputs": [
        {
          "output_type": "stream",
          "name": "stdout",
          "text": [
            "974 papers loaded\n"
          ]
        }
      ]
    },
    {
      "cell_type": "code",
      "source": [
        "model = SentenceTransformer('allenai-specter')\n"
      ],
      "metadata": {
        "id": "39KSCS9AKwiI"
      },
      "execution_count": 5,
      "outputs": []
    },
    {
      "cell_type": "code",
      "source": [
        "\n",
        "#To encode the papers, we must combine the title and the abstracts to a single string\n",
        "paper_texts = [paper['title'] + '[SEP]' + paper['abstract'] for paper in papers]\n",
        "\n",
        "# #Compute embeddings for all papers\n",
        "# corpus_embeddings = model.encode(paper_texts, convert_to_tensor=True)"
      ],
      "metadata": {
        "id": "9ZnY42TdNLtC"
      },
      "execution_count": 7,
      "outputs": []
    },
    {
      "cell_type": "code",
      "source": [
        "import pickle\n",
        "import json\n",
        "import torch"
      ],
      "metadata": {
        "id": "RTjziHOsOz_e"
      },
      "execution_count": 9,
      "outputs": []
    },
    {
      "cell_type": "code",
      "source": [
        "corpus_embeddings = torch.load('/content/drive/MyDrive/tensor_research_papers.pt')"
      ],
      "metadata": {
        "id": "L9tcbQlfL7bZ"
      },
      "execution_count": 10,
      "outputs": []
    },
    {
      "cell_type": "code",
      "source": [
        ""
      ],
      "metadata": {
        "id": "rBFFEe63L-Xt"
      },
      "execution_count": null,
      "outputs": []
    },
    {
      "cell_type": "code",
      "source": [
        "#We define a function, given title & abstract, searches our corpus for relevant (similar) papers\n",
        "from termcolor import colored\n",
        "\n",
        "def search_papers(title):\n",
        "  query_embedding = model.encode(title+'[SEP]', convert_to_tensor=True)\n",
        "\n",
        "  count = 0\n",
        "\n",
        "  search_hits = util.semantic_search(query_embedding, corpus_embeddings)\n",
        "  search_hits = search_hits[0]  #Get the hits for the first query\n",
        "\n",
        "  print(\"Query:\", title)\n",
        "  print(\"\\nMost similar papers:\")\n",
        "  for hit in search_hits:\n",
        "    count+=1\n",
        "    related_paper = papers[hit['corpus_id']]\n",
        "    print()\n",
        "    print(str(count)+\". \"+colored(related_paper['title'],'red'))\n",
        "    print(related_paper['abstract'])\n",
        "    print(related_paper['url'])"
      ],
      "metadata": {
        "id": "TK4LzPZ6K040"
      },
      "execution_count": 11,
      "outputs": []
    },
    {
      "cell_type": "code",
      "source": [
        "search_papers('NLP')"
      ],
      "metadata": {
        "id": "Jm4A-H0CO248"
      },
      "execution_count": null,
      "outputs": []
    }
  ]
}